{
 "cells": [
  {
   "cell_type": "code",
   "execution_count": 3,
   "metadata": {},
   "outputs": [
    {
     "name": "stdout",
     "output_type": "stream",
     "text": [
      "(86147,)\n",
      "[1.48510782e+107 7.82110758e+179 8.63897689e-013 2.64318155e+092\n",
      " 6.89603491e-013 3.99899756e+252 1.85153106e+060 1.49490533e+020\n",
      " 2.06999315e+161 3.99461109e+252]\n"
     ]
    }
   ],
   "source": [
    "import numpy as np\n",
    "\n",
    "\n",
    "# Or try using numpy if it's in a standard format\n",
    "try:\n",
    "    data = np.fromfile(\"G:\\Shared drives\\TNLabData\\EEG_BasedBCI_Cursor_Control\\TrainingTestData\\AutoTrain\\Mar28-2017-RezaA\\Mar28-2017-RezaAHO001\\Mar28-2017-RezaAHOS001R03.dat\")\n",
    "    print(data.shape)\n",
    "    print(data[:10])  # Print first 10 elements to inspect\n",
    "except:\n",
    "    print(\"Couldn't read with numpy\")"
   ]
  }
 ],
 "metadata": {
  "kernelspec": {
   "display_name": "base",
   "language": "python",
   "name": "python3"
  },
  "language_info": {
   "codemirror_mode": {
    "name": "ipython",
    "version": 3
   },
   "file_extension": ".py",
   "mimetype": "text/x-python",
   "name": "python",
   "nbconvert_exporter": "python",
   "pygments_lexer": "ipython3",
   "version": "3.10.9"
  }
 },
 "nbformat": 4,
 "nbformat_minor": 2
}
